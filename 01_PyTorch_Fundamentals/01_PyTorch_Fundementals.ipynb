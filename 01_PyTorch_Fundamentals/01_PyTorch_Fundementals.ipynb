{
  "nbformat": 4,
  "nbformat_minor": 0,
  "metadata": {
    "colab": {
      "provenance": [],
      "authorship_tag": "ABX9TyNRP5p44udfC+uFKtELbRIb",
      "include_colab_link": true
    },
    "kernelspec": {
      "name": "python3",
      "display_name": "Python 3"
    },
    "language_info": {
      "name": "python"
    }
  },
  "cells": [
    {
      "cell_type": "markdown",
      "metadata": {
        "id": "view-in-github",
        "colab_type": "text"
      },
      "source": [
        "<a href=\"https://colab.research.google.com/github/AndriyBabiy/goit_deep-learning/blob/main/01_PyTorch_Fundamentals/01_PyTorch_Fundementals.ipynb\" target=\"_parent\"><img src=\"https://colab.research.google.com/assets/colab-badge.svg\" alt=\"Open In Colab\"/></a>"
      ]
    },
    {
      "cell_type": "markdown",
      "source": [
        "# 01 - Pytorch Basics\n",
        "\n",
        "This project is focued on utilising neural networks in order to predict which factors impact the strength of concrete."
      ],
      "metadata": {
        "id": "vSlJ8uQ0Y0Yy"
      }
    },
    {
      "cell_type": "markdown",
      "source": [
        "## Import Libraries and Data"
      ],
      "metadata": {
        "id": "Qopt1qwHjk_X"
      }
    },
    {
      "cell_type": "code",
      "source": [],
      "metadata": {
        "id": "owwWOJJIjv5T"
      },
      "execution_count": null,
      "outputs": []
    },
    {
      "cell_type": "code",
      "source": [],
      "metadata": {
        "id": "6NcQLIAQjlu7"
      },
      "execution_count": null,
      "outputs": []
    },
    {
      "cell_type": "markdown",
      "source": [
        "## Exploratory Data Analysis"
      ],
      "metadata": {
        "id": "WoSeUhoIkO_D"
      }
    },
    {
      "cell_type": "code",
      "source": [],
      "metadata": {
        "id": "nIwg9dgrkVgi"
      },
      "execution_count": null,
      "outputs": []
    },
    {
      "cell_type": "markdown",
      "source": [
        "## Preparing the data for training"
      ],
      "metadata": {
        "id": "UI-1VSAskV4E"
      }
    },
    {
      "cell_type": "code",
      "source": [],
      "metadata": {
        "id": "tqw1RaH4kbMo"
      },
      "execution_count": null,
      "outputs": []
    },
    {
      "cell_type": "markdown",
      "source": [
        "## Creating and Training the neural network to predict concrete strength"
      ],
      "metadata": {
        "id": "o3u7Maqskbm7"
      }
    },
    {
      "cell_type": "code",
      "source": [],
      "metadata": {
        "id": "HWaCVZlekn95"
      },
      "execution_count": null,
      "outputs": []
    },
    {
      "cell_type": "markdown",
      "source": [
        "## Analyse the model performance"
      ],
      "metadata": {
        "id": "2LbmHHFSkoKy"
      }
    },
    {
      "cell_type": "code",
      "source": [],
      "metadata": {
        "id": "3fiG1JOskw4U"
      },
      "execution_count": null,
      "outputs": []
    },
    {
      "cell_type": "markdown",
      "source": [
        "## Conclusion and analysis of the results"
      ],
      "metadata": {
        "id": "mLmv0M43kxEL"
      }
    },
    {
      "cell_type": "code",
      "source": [],
      "metadata": {
        "id": "yJ1abBytk4cO"
      },
      "execution_count": null,
      "outputs": []
    }
  ]
}